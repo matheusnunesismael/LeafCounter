{
 "metadata": {
  "language_info": {
   "codemirror_mode": {
    "name": "ipython",
    "version": 3
   },
   "file_extension": ".py",
   "mimetype": "text/x-python",
   "name": "python",
   "nbconvert_exporter": "python",
   "pygments_lexer": "ipython3",
   "version": "3.9.0-final"
  },
  "orig_nbformat": 2,
  "kernelspec": {
   "name": "python3",
   "display_name": "Python 3.9.0 64-bit",
   "metadata": {
    "interpreter": {
     "hash": "0050bdc898b9a679c387244c11e8057e7ae4f22360b32a2e55d1f190f6800284"
    }
   }
  }
 },
 "nbformat": 4,
 "nbformat_minor": 2,
 "cells": [
  {
   "cell_type": "code",
   "execution_count": null,
   "metadata": {},
   "outputs": [],
   "source": [
    "import numpy as np\n",
    "from matplotlib import pyplot as plt\n",
    "import cv2\n",
    "import copy\n",
    "import time\n",
    "from scipy import ndimage\n",
    "\n",
    "%matplotlib inline\n",
    "WHITE = 240 #constante para checagem de branco"
   ]
  },
  {
   "cell_type": "code",
   "execution_count": null,
   "metadata": {},
   "outputs": [],
   "source": [
    "#dicionário que define as 8 posíveis posições de um vizinho, iniciando pelo vizinho à esquerda\n",
    "neighbors = {\n",
    "    \"n_0\": [ 0,-1],\n",
    "    \"n_1\": [-1,-1],\n",
    "    \"n_2\": [-1, 0],\n",
    "    \"n_3\": [-1, 1],\n",
    "    \"n_4\": [ 0, 1],\n",
    "    \"n_5\": [ 1, 1],\n",
    "    \"n_6\": [ 1, 0],\n",
    "    \"n_7\": [ 1,-1]\n",
    "}"
   ]
  },
  {
   "cell_type": "code",
   "execution_count": null,
   "metadata": {},
   "outputs": [],
   "source": [
    "inverse_neighbors = {\n",
    "    \"[-1 -1]\": 1,\n",
    "    \"[-1  0]\": 2,\n",
    "    \"[-1  1]\": 3,\n",
    "    \"[ 0 -1]\": 0,\n",
    "    \"[0 1]\"  : 4,\n",
    "    \"[ 1 -1]\": 7,\n",
    "    \"[1 0]\"  : 6,\n",
    "    \"[1 1]\"  : 5\n",
    "}"
   ]
  },
  {
   "cell_type": "code",
   "execution_count": null,
   "metadata": {},
   "outputs": [],
   "source": [
    "# função para buscar no dicionário em qual posição \"neig\" está em relação a \"center\"\n",
    "def find_n(center, neig):\n",
    "    delta = neig - center\n",
    "    cont_n = inverse_neighbors[str(delta)]\n",
    "\n",
    "    return cont_n"
   ]
  },
  {
   "cell_type": "code",
   "execution_count": null,
   "metadata": {},
   "outputs": [],
   "source": [
    "# função para verificar se o ponto p está dentro dos limites da matriz\n",
    "def in_limits(p, limits):\n",
    "    return p[0] < limits[0] and p[0] >= 0 and p[1] < limits[1] and p[1] >= 0"
   ]
  },
  {
   "cell_type": "code",
   "execution_count": null,
   "metadata": {},
   "outputs": [],
   "source": [
    "# passos 3 a 5 do Agoritmo Seguidor de Fronteira\n",
    "def frontier_explorator(b, c, matrix, b_0, frontier):\n",
    "    height = np.shape(matrix)[0]\n",
    "    width  = np.shape(matrix)[1]\n",
    "    # flag booleana que determina se o laço deve continuar. Torna-se verdadeira quando b=b_0\n",
    "    back_to_beginning = False\n",
    "    border = False\n",
    "\n",
    "    while not back_to_beginning:\n",
    "        # verifica qual o n do c atual\n",
    "        cont_n = find_n(b, c)\n",
    "        \n",
    "        # incrementa n para começar a olhar para o próximo vizinho\n",
    "        cont_n = (cont_n+1)%8\n",
    "\n",
    "        # se o proximo vizinho está fora dos limites da imagem, caminha pelos vizinhos para encontrar um contido na imagem\n",
    "        while not in_limits(b + neighbors[\"n_\"+str(cont_n)], [height, width]):\n",
    "            cont_n = (cont_n+1)%8\n",
    "\n",
    "        # nk = próximo vizinho\n",
    "        nk = b + neighbors[\"n_\"+str(cont_n)]\n",
    "\n",
    "        # laço busca o próximo pixel vizinho que não é branco\n",
    "        while np.average(matrix[nk[0], nk[1]])>WHITE:\n",
    "            cont_n = (cont_n+1)%8\n",
    "            nk = b + neighbors[\"n_\"+str(cont_n)]\n",
    "   \n",
    "        # cria a variável \"k_minus_1\", que guarda o índice do vizinho anterior\n",
    "        k_minus_1 = (cont_n-1)%8\n",
    "\n",
    "        # c corresponde ao vizinho anterior, b corresponde ao vizinho de valor 1\n",
    "        c = b + neighbors[\"n_\"+str(k_minus_1)]\n",
    "        b = nk\n",
    "\n",
    "        # joga o valor de b pra lista de pixels da fronteira\n",
    "        frontier += [b]\n",
    "\n",
    "        # verifica se b já voltou pro começo pra continuar a percorrer a fronteira\n",
    "        if np.array_equal(b,b_0):\n",
    "            back_to_beginning = True\n",
    "\n",
    "    return frontier"
   ]
  },
  {
   "cell_type": "code",
   "execution_count": null,
   "metadata": {},
   "outputs": [],
   "source": [
    "# inicia o Algoritmo Seguidor de Fronteira com os Passos 1 e 2\n",
    "def frontier_finder(b_0, matrix):\n",
    "    terminou_tudo = False\n",
    "    folha = True\n",
    "\n",
    "    # percorre os pixels brancos da imagem até encontrar o primeiro pixel não-branco\n",
    "    avg = np.mean(matrix,axis=-1)\n",
    "    nao_nulo = avg<240\n",
    "    achou = np.transpose(np.nonzero(nao_nulo))\n",
    "    if len(achou)<20:\n",
    "        return ([], True, b_0, folha)\n",
    "    while achou[0,0] == 0:\n",
    "        achou = np.delete(achou,0,0)\n",
    "    b_0 = achou[0,:]\n",
    "\n",
    "    # define c como o vizinho da esquerda do primeiro pixel não-branco\n",
    "    c = b_0 + neighbors[\"n_1\"]\n",
    "\n",
    "    # procura o primeiro vizinho não branco para ser o próximo c\n",
    "    cont_n = 1\n",
    "    while np.average(matrix[c[0], c[1]])>WHITE:\n",
    "        c = b_0 + neighbors[\"n_\"+str(cont_n)]\n",
    "        cont_n = (cont_n+1)%8\n",
    "        if cont_n==0:\n",
    "            achou = np.delete(achou,0,0)\n",
    "            if len(achou)==0:\n",
    "                return ([], True, b_0, folha)\n",
    "            else:\n",
    "                b_0 = achou[0,:]\n",
    "                c = b_0 + neighbors[\"n_0\"]\n",
    "                cont_n = 0\n",
    "\n",
    "    # passa o valor do atual pixel não-branco (c) para b, e passa o valor de b_0 para c\n",
    "    b, c = c, b_0\n",
    "    \n",
    "    # adiciona b_0 e b para a lista de pixels percorridos\n",
    "    frontier = [b_0, b] \n",
    "    frontier = frontier + frontier_explorator(b, c, matrix, b_0, frontier)\n",
    "    if len(frontier)<50:\n",
    "        folha = False\n",
    "\n",
    "    return (frontier, terminou_tudo, b_0, folha)"
   ]
  },
  {
   "cell_type": "code",
   "execution_count": null,
   "metadata": {},
   "outputs": [],
   "source": [
    "def segmentation(img, last_b_0):\n",
    "    # chama o algoritmo seguidor de fronteira e armazena sua fronteira em \"frontier\"\n",
    "    (frontier, terminou_tudo, last_b_0, folha) = frontier_finder(last_b_0, img)\n",
    "    \n",
    "    if not terminou_tudo:\n",
    "        frontier_matrix = np.array(frontier)\n",
    "\n",
    "        # define dimensões da sub-imagem\n",
    "        min_y = np.min(frontier_matrix[:,0])\n",
    "        max_y = np.max(frontier_matrix[:,0])\n",
    "        min_x = np.min(frontier_matrix[:,1])\n",
    "        max_x = np.max(frontier_matrix[:,1])\n",
    "        frontier_height = max_y - min_y\n",
    "        frontier_width  = max_x - min_x\n",
    "\n",
    "        # padding de 1 ao redor da fronteira\n",
    "        new_height = frontier_height+1\n",
    "        new_width = frontier_width+1\n",
    "        border_img = np.zeros((new_height, new_width))\n",
    "\n",
    "        # reposiciona as coordernadas de frontier_matrix para o canto superior esquerdo\n",
    "        frontier_matrix = frontier_matrix - [min_y, min_x]\n",
    "\n",
    "        # transfere a fronteira para \"border_img\"\n",
    "        for f in frontier_matrix:\n",
    "            border_img[f[0], f[1]] = 1\n",
    "        \n",
    "        # cria máscar \"mask\" que será utilizada para extrair a sub-imagem da imagem original\n",
    "        mask = copy.deepcopy(border_img)\n",
    "        mask = ndimage.binary_fill_holes(mask).astype(int)\n",
    "\n",
    "        # adiciona 3ª dimensão em mask3D para que o broadcast seja possível\n",
    "        mask3D = np.zeros((new_height, new_width, 1))\n",
    "        # pega os valores de mask\n",
    "        mask3D[:,:,0] = mask\n",
    "        # converte mask3D em uma matriz booleana\n",
    "        mask3D = np.array(mask3D, dtype=bool)\n",
    "        \n",
    "        # aplica máscara \"mask\" sobre a imagem original, extraindo a subimagem \"new_img\"\n",
    "        new_img = np.zeros((new_height, new_width,3))\n",
    "        new_img = np.multiply(img[min_y:max_y+1, min_x:max_x+1], mask3D)\n",
    "        img[min_y:max_y+1, min_x:max_x+1,:] = np.multiply(img[min_y:max_y+1, min_x:max_x+1], np.logical_not(mask3D))\n",
    "\n",
    "        # troca fundos pretos da aplicação da máscara por fundos brancos\n",
    "        \n",
    "        new_img = np.where(mask3D==[0],[255,255,255], new_img)\n",
    "        img_part = np.where(mask3D==[0], img[min_y:max_y+1, min_x:max_x+1], [255,255,255])\n",
    "        img[min_y:max_y+1, min_x:max_x+1] = img_part\n",
    "              \n",
    "        \n",
    "        # transforma imagem de borda em imagem RGB\n",
    "        # determina os valores de \"border_rgb\", trocando fundo preto da imagem de borda por fundo branco e deixa o contorno preto\n",
    "        border_test = np.where(border_img==0, 255, 0)\n",
    "        border_rgb = np.stack((border_test, border_test, border_test),axis=-1)\n",
    "\n",
    "        return (border_rgb, new_img, img, terminou_tudo, last_b_0, folha)\n",
    "    else:\n",
    "        return (0,0,0, terminou_tudo, last_b_0, folha)\n",
    "\n",
    "    "
   ]
  },
  {
   "cell_type": "code",
   "execution_count": null,
   "metadata": {},
   "outputs": [],
   "source": [
    "# img_num é o inteiro correspondente à iteração do laço\n",
    "def open_img_save_subimgs(img_num):\n",
    "    str_num = str(img_num).zfill(2)\n",
    "    path = \"Folhas/Teste\"+str_num+\".png\"\n",
    "    img = cv2.imread(path)\n",
    "    height = np.shape(img)[0]\n",
    "    width = np.shape(img)[1]\n",
    "\n",
    "    # cria pasta que irá armazenar as saidas\n",
    "    if not os.path.isdir(\"./Saidas\"):\n",
    "        os.mkdir( \"Saidas\", 755 )\n",
    "    folder_path = \"Saidas/\"+ (str(img_num) if img_num>9 else \"0\"+str(img_num))\n",
    "    if not os.path.isdir(folder_path):\n",
    "        os.mkdir( folder_path, 755 )\n",
    "    \n",
    "    terminou_tudo = False\n",
    "    subimg_counter = 0\n",
    "    last_b_0 = np.array([0,1])\n",
    "    time_before_time = time.time()\n",
    "    while not terminou_tudo:\n",
    "        t0 = time.time()\n",
    "        border_rgb, new_img, img, terminou_tudo, last_b_0, folha = segmentation(img, last_b_0)\n",
    "        if not terminou_tudo and folha:\n",
    "            subimg_counter+=1\n",
    "            str_num_sub = str(subimg_counter).zfill(2)\n",
    "            \n",
    "            new_img_path = folder_path+\"/\"+str_num_sub+\".png\"\n",
    "            cv2.imwrite(new_img_path, new_img)\n",
    "            border_path = folder_path+\"/\"+str_num_sub+\"-P.png\"\n",
    "            cv2.imwrite(border_path, border_rgb)\n",
    "            t1 = time.time()\n",
    "            \n",
    "            print(\"Subimagem \"+str_num_sub+\" salva.\")\n",
    "            print(f\"Tempo: {t1-t0}\")\n",
    "            print(\"-\"*20)\n",
    "\n",
    "    time_after_time = time.time()\n",
    "    print(\"Imagem \"+str_num)\n",
    "    print(f\"Tempo Total: {time_after_time-time_before_time}\")\n",
    "    print(\"-\"*20)\n"
   ]
  },
  {
   "cell_type": "code",
   "execution_count": null,
   "metadata": {},
   "outputs": [],
   "source": [
    "#np.shape(frontier)"
   ]
  },
  {
   "cell_type": "code",
   "execution_count": null,
   "metadata": {},
   "outputs": [],
   "source": [
    "#plt.imshow(border_img,cmap='gray')\n",
    "#plt.title(\"borda\")\n",
    "#plt.show()"
   ]
  },
  {
   "cell_type": "code",
   "execution_count": null,
   "metadata": {},
   "outputs": [],
   "source": [
    "#plt.imshow(mask, cmap='gray')\n",
    "#plt.title(\"mask\")\n",
    "#plt.show()"
   ]
  },
  {
   "cell_type": "code",
   "execution_count": null,
   "metadata": {},
   "outputs": [],
   "source": [
    "#plt.imshow(border_rgb)\n",
    "#plt.title(\"borda\")\n",
    "#plt.show()"
   ]
  },
  {
   "cell_type": "code",
   "execution_count": null,
   "metadata": {},
   "outputs": [],
   "source": [
    "#plt.imshow(new_img)\n",
    "#plt.title(\"nova imagem\")\n",
    "#plt.show()"
   ]
  },
  {
   "cell_type": "code",
   "execution_count": null,
   "metadata": {},
   "outputs": [],
   "source": [
    "#plt.imshow(img)\n",
    "#plt.title(\"imagem original\")\n",
    "#plt.show()"
   ]
  },
  {
   "cell_type": "code",
   "execution_count": null,
   "metadata": {
    "tags": []
   },
   "outputs": [],
   "source": [
    "#for i in range(14,16):\n",
    "open_img_save_subimgs(1) # a imagem 13 tem algum conjunto de pixels que buga tudo, ainda não consegui achar o que é"
   ]
  },
  {
   "cell_type": "code",
   "execution_count": null,
   "metadata": {},
   "outputs": [],
   "source": []
  }
 ]
}